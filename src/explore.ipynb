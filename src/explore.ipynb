{
    "cells": [
        {
            "cell_type": "markdown",
            "metadata": {},
            "source": [
                "DEEP LEARNING"
            ]
        },
        {
            "cell_type": "markdown",
            "metadata": {},
            "source": [
                "VISUALIZAR DOGS & CATS"
            ]
        },
        {
            "cell_type": "code",
            "execution_count": null,
            "metadata": {},
            "outputs": [],
            "source": [
                "import os\n",
                "import numpy as np\n",
                "import matplotlib.pyplot as plt\n",
                "from tensorflow import keras\n",
                "import tensorflow as tf\n",
                "from keras.preprocessing import image\n",
                "\n",
                "# Import and Check first 9 Dog Pictures\n",
                "\n",
                "# Path to the directory containing your image data\n",
                "data_dir = \"/workspaces/DeepLearning1/data/raw/train\"\n",
                "\n",
                "# Get a list of all dog image file names\n",
                "dog_subfolder = os.path.join(data_dir, \"dogs\")\n",
                "\n",
                "# Get a list of all dog image file names\n",
                "dog_image_files = os.listdir(dog_subfolder)\n",
                "\n",
                "# Load the first nine dog images\n",
                "dog_images = []\n",
                "for i in range(9):\n",
                "    img_path = os.path.join(dog_subfolder, dog_image_files[i])\n",
                "    img = image.load_img(img_path)  # Adjust target_size\n",
                "    img_array = image.img_to_array(img)\n",
                "    img_array /= 255.0  # Normalize pixel values to [0, 1]\n",
                "    dog_images.append(img_array)\n",
                "\n",
                "# Create a single figure to display all nine images\n",
                "plt.figure(figsize=(12, 8))\n",
                "\n",
                "for i in range(9):\n",
                "    plt.subplot(3, 3, i + 1)\n",
                "    plt.imshow(dog_images[i])\n",
                "    plt.title('Dog Image')\n",
                "    plt.axis('off')\n",
                "\n",
                "# Adjust Layout\n",
                "plt.tight_layout()\n",
                "\n",
                "# Show the pictures\n",
                "plt.show()"
            ]
        },
        {
            "cell_type": "code",
            "execution_count": null,
            "metadata": {},
            "outputs": [],
            "source": [
                "# Import and Check first 9 Cat Pictures\n",
                "\n",
                "# Get a list of all cat image file names\n",
                "cats_subfolder = os.path.join(data_dir, \"cats\")\n",
                "\n",
                "# Get a list of all Cat image file names\n",
                "cats_image_files = os.listdir(cats_subfolder)\n",
                "\n",
                "# Load the first nine cat images\n",
                "cats_images = []\n",
                "for i in range(min(9, len(cats_image_files))):  # Limit to available cat images\n",
                "    img_path = os.path.join(cats_subfolder, cats_image_files[i])\n",
                "    img = image.load_img(img_path)\n",
                "    img_array = image.img_to_array(img)\n",
                "    img_array /= 255.0\n",
                "    cats_images.append(img_array)\n",
                "\n",
                "# Create a single figure to display all cat images\n",
                "plt.figure(figsize=(12, 8))\n",
                "\n",
                "for i in range(len(cats_images)):\n",
                "    plt.subplot(3, 3, i + 1)\n",
                "    plt.imshow(cats_images[i])\n",
                "    plt.title('Cat Image')\n",
                "    plt.axis('off')\n",
                "\n",
                "# Adjust Layout\n",
                "plt.tight_layout()\n",
                "\n",
                "# Show the pictures\n",
                "plt.show()"
            ]
        },
        {
            "cell_type": "code",
            "execution_count": null,
            "metadata": {},
            "outputs": [],
            "source": [
                "from keras.preprocessing.image import ImageDataGenerator\n",
                "\n",
                "# Define a few rules for DataGen\n",
                "test_dir = \"/workspaces/DeepLearning1/data/raw\"\n",
                "image_size = (200, 200)\n",
                "\n",
                "datagentrain = ImageDataGenerator()\n",
                "datagentest = ImageDataGenerator()\n",
                "\n",
                "# Train Data Generation\n",
                "train_data = datagentrain.flow_from_directory(\n",
                "    data_dir,\n",
                "    target_size = image_size,\n",
                "    classes = [\"dogs\", \"cats\"] \n",
                ")\n",
                "\n",
                "# Test Data Generation\n",
                "test_data = datagentest.flow_from_directory(\n",
                "    test_dir,\n",
                "    target_size = image_size,\n",
                "    classes = [\"test1\"]\n",
                ")"
            ]
        },
        {
            "cell_type": "markdown",
            "metadata": {},
            "source": [
                "CONSTRUCCIÓN RED NEURONAL"
            ]
        },
        {
            "cell_type": "code",
            "execution_count": null,
            "metadata": {},
            "outputs": [],
            "source": [
                "# Construye una red neuronal\n",
                "from keras.models import Sequential\n",
                "from keras.layers import Dense, Conv2D, MaxPool2D , Flatten\n",
                "\n",
                "model = Sequential()\n",
                "model.add(Conv2D(input_shape = (224,224,3), filters = 64, kernel_size = (3,3), padding = \"same\", activation = \"relu\")) # \"relu\": Esta es la función de activación Rectified Linear Unit (ReLU). f(x)=max(0,x)\n",
                "model.add(Conv2D(filters = 64,kernel_size = (3,3),padding = \"same\", activation = \"relu\")) #padding=\"same\" se usa para mantener las dimensiones espaciales a lo largo de las capas convolucionales, y activation=\"relu\" se emplea para introducir no linealidades en el modelo,\n",
                "model.add(MaxPool2D(pool_size = (2,2),strides = (2,2)))\n",
                "\n",
                "model.add(Conv2D(filters = 128, kernel_size = (3,3), padding = \"same\", activation = \"relu\"))\n",
                "model.add(Conv2D(filters = 128, kernel_size = (3,3), padding = \"same\", activation = \"relu\"))\n",
                "model.add(MaxPool2D(pool_size = (2,2),strides = (2,2)))\n",
                "\n",
                "model.add(Conv2D(filters = 256, kernel_size = (3,3), padding = \"same\", activation = \"relu\"))\n",
                "model.add(Conv2D(filters = 256, kernel_size = (3,3), padding = \"same\", activation = \"relu\"))\n",
                "model.add(Conv2D(filters = 256, kernel_size = (3,3), padding = \"same\", activation = \"relu\"))\n",
                "model.add(MaxPool2D(pool_size = (2,2),strides = (2,2)))\n",
                "\n",
                "model.add(Conv2D(filters = 512, kernel_size = (3,3), padding = \"same\", activation = \"relu\"))\n",
                "model.add(Conv2D(filters = 512, kernel_size = (3,3), padding = \"same\", activation = \"relu\"))\n",
                "model.add(Conv2D(filters = 512, kernel_size = (3,3), padding = \"same\", activation = \"relu\"))\n",
                "model.add(MaxPool2D(pool_size = (2,2),strides = (2,2)))\n",
                "\n",
                "model.add(Conv2D(filters = 512, kernel_size = (3,3), padding = \"same\", activation = \"relu\"))\n",
                "model.add(Conv2D(filters = 512, kernel_size = (3,3), padding = \"same\", activation = \"relu\"))\n",
                "model.add(Conv2D(filters = 512, kernel_size = (3,3), padding = \"same\", activation = \"relu\"))\n",
                "model.add(MaxPool2D(pool_size = (2,2),strides = (2,2)))\n",
                "\n",
                "model.add(Conv2D(filters=512, kernel_size=(3,3), padding=\"same\", activation=\"relu\"))\n",
                "model.add(Conv2D(filters=512, kernel_size=(3,3), padding=\"same\", activation=\"relu\"))\n",
                "model.add(MaxPool2D(pool_size=(2,2), strides=(2,2)))  # Reduce a 3x3\n",
                "\n",
                "# MoverMove the Data through the Dense Layers\n",
                "model.add(Flatten())\n",
                "model.add(Dense(units = 512,activation = \"relu\"))\n",
                "model.add(Dense(units = 4096,activation = \"relu\"))\n",
                "model.add(Dense(units = 2, activation = \"softmax\"))"
            ]
        },
        {
            "cell_type": "code",
            "execution_count": null,
            "metadata": {},
            "outputs": [],
            "source": [
                "# Compilar Modelo usando el optimizador Adam antes de entrenarlo\n",
                "from keras.optimizers import Adam\n",
                "\n",
                "model.compile(loss = keras.losses.categorical_crossentropy, optimizer = Adam(learning_rate = 0.001), metrics = [\"accuracy\"])"
            ]
        },
        {
            "cell_type": "code",
            "execution_count": null,
            "metadata": {},
            "outputs": [],
            "source": [
                "# Entreno modelo\n",
                "model.fit(train_data, epochs = 1)"
            ]
        },
        {
            "cell_type": "markdown",
            "metadata": {},
            "source": [
                "Guardar el Modelo"
            ]
        },
        {
            "cell_type": "code",
            "execution_count": null,
            "metadata": {},
            "outputs": [],
            "source": [
                "# Guardar Modelo\n",
                "from keras.callbacks import ModelCheckpoint, EarlyStopping\n",
                "\n",
                "checkpoint = ModelCheckpoint(\"../models/vgg16_1.h5\", monitor = \"val_accuracy\", verbose = 1, save_best_only = True, save_weights_only = False, mode = \"auto\")\n",
                "early = EarlyStopping(monitor = \"val_accuracy\", patience = 3, verbose = 1, mode = \"auto\")\n",
                "hist = model.fit(train_data, steps_per_epoch = 100, validation_data = test_data, validation_steps = 10, epochs = 1, callbacks = [checkpoint, early])"
            ]
        },
        {
            "cell_type": "code",
            "execution_count": null,
            "metadata": {},
            "outputs": [],
            "source": [
                "# Comprobar accuracy del modelo:\n",
                "import matplotlib.pyplot as plt\n",
                "\n",
                "#Plot the Results\n",
                "plt.plot(hist.history[\"accuracy\"])\n",
                "plt.plot(hist.history[\"val_accuracy\"])\n",
                "plt.plot(hist.history[\"loss\"])\n",
                "plt.plot(hist.history[\"val_loss\"])\n",
                "\n",
                "# Configure the Plot Layout\n",
                "plt.title(\"Model Accuracy\")\n",
                "plt.ylabel(\"Accuracy\")\n",
                "plt.xlabel(\"Epoch\")\n",
                "plt.legend([\"Accuracy\", \"Validation Accuracy\", \"Loss\", \"Validation Loss\"])\n",
                "\n",
                "# Plot\n",
                "plt.show()"
            ]
        },
        {
            "cell_type": "code",
            "execution_count": null,
            "metadata": {},
            "outputs": [],
            "source": [
                "from keras.preprocessing import image\n",
                "from keras.models import load_model\n",
                "\n",
                "img = image.load_img(\"data/raw/test1/172.jpg\", target_size = (200, 200))\n",
                "img = np.asarray(img)\n",
                "plt.imshow(img)\n",
                "img = np.expand_dims(img, axis = 0)\n",
                "saved_model = load_model(\"../models/vgg16_1.h5\")\n",
                "output = saved_model.predict(img)\n",
                "if output[0][0] > output[0][1]:\n",
                "    print(\"cat\")\n",
                "else:\n",
                "    print(\"dog\")"
            ]
        }
    ],
    "metadata": {
        "kernelspec": {
            "display_name": "Python 3.8.13 64-bit ('3.8.13')",
            "language": "python",
            "name": "python3"
        },
        "language_info": {
            "codemirror_mode": {
                "name": "ipython",
                "version": 3
            },
            "file_extension": ".py",
            "mimetype": "text/x-python",
            "name": "python",
            "nbconvert_exporter": "python",
            "pygments_lexer": "ipython3",
            "version": "3.11.4"
        },
        "orig_nbformat": 4,
        "vscode": {
            "interpreter": {
                "hash": "110cc1dee26208153f2972f08a2ad52b6a56238dc66d48e87fb757ef2996db56"
            }
        }
    },
    "nbformat": 4,
    "nbformat_minor": 2
}
